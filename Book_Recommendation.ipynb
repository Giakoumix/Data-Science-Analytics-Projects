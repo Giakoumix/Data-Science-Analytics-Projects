{
 "cells": [
  {
   "cell_type": "code",
   "execution_count": 1,
   "metadata": {},
   "outputs": [
    {
     "data": {
      "text/html": [
       "<div>\n",
       "<style scoped>\n",
       "    .dataframe tbody tr th:only-of-type {\n",
       "        vertical-align: middle;\n",
       "    }\n",
       "\n",
       "    .dataframe tbody tr th {\n",
       "        vertical-align: top;\n",
       "    }\n",
       "\n",
       "    .dataframe thead th {\n",
       "        text-align: right;\n",
       "    }\n",
       "</style>\n",
       "<table border=\"1\" class=\"dataframe\">\n",
       "  <thead>\n",
       "    <tr style=\"text-align: right;\">\n",
       "      <th></th>\n",
       "      <th>bookId</th>\n",
       "      <th>title</th>\n",
       "      <th>series</th>\n",
       "      <th>author</th>\n",
       "      <th>rating</th>\n",
       "      <th>description</th>\n",
       "      <th>language</th>\n",
       "      <th>isbn</th>\n",
       "      <th>genres</th>\n",
       "      <th>characters</th>\n",
       "      <th>...</th>\n",
       "      <th>firstPublishDate</th>\n",
       "      <th>awards</th>\n",
       "      <th>numRatings</th>\n",
       "      <th>ratingsByStars</th>\n",
       "      <th>likedPercent</th>\n",
       "      <th>setting</th>\n",
       "      <th>coverImg</th>\n",
       "      <th>bbeScore</th>\n",
       "      <th>bbeVotes</th>\n",
       "      <th>price</th>\n",
       "    </tr>\n",
       "  </thead>\n",
       "  <tbody>\n",
       "    <tr>\n",
       "      <th>0</th>\n",
       "      <td>2767052-the-hunger-games</td>\n",
       "      <td>The Hunger Games</td>\n",
       "      <td>The Hunger Games #1</td>\n",
       "      <td>Suzanne Collins</td>\n",
       "      <td>4.33</td>\n",
       "      <td>WINNING MEANS FAME AND FORTUNE.LOSING MEANS CE...</td>\n",
       "      <td>English</td>\n",
       "      <td>9780439023481</td>\n",
       "      <td>['Young Adult', 'Fiction', 'Dystopia', 'Fantas...</td>\n",
       "      <td>['Katniss Everdeen', 'Peeta Mellark', 'Cato (H...</td>\n",
       "      <td>...</td>\n",
       "      <td>NaN</td>\n",
       "      <td>['Locus Award Nominee for Best Young Adult Boo...</td>\n",
       "      <td>6376780</td>\n",
       "      <td>['3444695', '1921313', '745221', '171994', '93...</td>\n",
       "      <td>96.0</td>\n",
       "      <td>['District 12, Panem', 'Capitol, Panem', 'Pane...</td>\n",
       "      <td>https://i.gr-assets.com/images/S/compressed.ph...</td>\n",
       "      <td>2993816</td>\n",
       "      <td>30516</td>\n",
       "      <td>5.09</td>\n",
       "    </tr>\n",
       "    <tr>\n",
       "      <th>1</th>\n",
       "      <td>2.Harry_Potter_and_the_Order_of_the_Phoenix</td>\n",
       "      <td>Harry Potter and the Order of the Phoenix</td>\n",
       "      <td>Harry Potter #5</td>\n",
       "      <td>J.K. Rowling, Mary GrandPré (Illustrator)</td>\n",
       "      <td>4.50</td>\n",
       "      <td>There is a door at the end of a silent corrido...</td>\n",
       "      <td>English</td>\n",
       "      <td>9780439358071</td>\n",
       "      <td>['Fantasy', 'Young Adult', 'Fiction', 'Magic',...</td>\n",
       "      <td>['Sirius Black', 'Draco Malfoy', 'Ron Weasley'...</td>\n",
       "      <td>...</td>\n",
       "      <td>06/21/03</td>\n",
       "      <td>['Bram Stoker Award for Works for Young Reader...</td>\n",
       "      <td>2507623</td>\n",
       "      <td>['1593642', '637516', '222366', '39573', '14526']</td>\n",
       "      <td>98.0</td>\n",
       "      <td>['Hogwarts School of Witchcraft and Wizardry (...</td>\n",
       "      <td>https://i.gr-assets.com/images/S/compressed.ph...</td>\n",
       "      <td>2632233</td>\n",
       "      <td>26923</td>\n",
       "      <td>7.38</td>\n",
       "    </tr>\n",
       "    <tr>\n",
       "      <th>2</th>\n",
       "      <td>2657.To_Kill_a_Mockingbird</td>\n",
       "      <td>To Kill a Mockingbird</td>\n",
       "      <td>To Kill a Mockingbird</td>\n",
       "      <td>Harper Lee</td>\n",
       "      <td>4.28</td>\n",
       "      <td>The unforgettable novel of a childhood in a sl...</td>\n",
       "      <td>English</td>\n",
       "      <td>9999999999999</td>\n",
       "      <td>['Classics', 'Fiction', 'Historical Fiction', ...</td>\n",
       "      <td>['Scout Finch', 'Atticus Finch', 'Jem Finch', ...</td>\n",
       "      <td>...</td>\n",
       "      <td>07/11/60</td>\n",
       "      <td>['Pulitzer Prize for Fiction (1961)', 'Audie A...</td>\n",
       "      <td>4501075</td>\n",
       "      <td>['2363896', '1333153', '573280', '149952', '80...</td>\n",
       "      <td>95.0</td>\n",
       "      <td>['Maycomb, Alabama (United States)']</td>\n",
       "      <td>https://i.gr-assets.com/images/S/compressed.ph...</td>\n",
       "      <td>2269402</td>\n",
       "      <td>23328</td>\n",
       "      <td>NaN</td>\n",
       "    </tr>\n",
       "    <tr>\n",
       "      <th>3</th>\n",
       "      <td>1885.Pride_and_Prejudice</td>\n",
       "      <td>Pride and Prejudice</td>\n",
       "      <td>NaN</td>\n",
       "      <td>Jane Austen, Anna Quindlen (Introduction)</td>\n",
       "      <td>4.26</td>\n",
       "      <td>Alternate cover edition of ISBN 9780679783268S...</td>\n",
       "      <td>English</td>\n",
       "      <td>9999999999999</td>\n",
       "      <td>['Classics', 'Fiction', 'Romance', 'Historical...</td>\n",
       "      <td>['Mr. Bennet', 'Mrs. Bennet', 'Jane Bennet', '...</td>\n",
       "      <td>...</td>\n",
       "      <td>01/28/13</td>\n",
       "      <td>[]</td>\n",
       "      <td>2998241</td>\n",
       "      <td>['1617567', '816659', '373311', '113934', '767...</td>\n",
       "      <td>94.0</td>\n",
       "      <td>['United Kingdom', 'Derbyshire, England (Unite...</td>\n",
       "      <td>https://i.gr-assets.com/images/S/compressed.ph...</td>\n",
       "      <td>1983116</td>\n",
       "      <td>20452</td>\n",
       "      <td>NaN</td>\n",
       "    </tr>\n",
       "    <tr>\n",
       "      <th>4</th>\n",
       "      <td>41865.Twilight</td>\n",
       "      <td>Twilight</td>\n",
       "      <td>The Twilight Saga #1</td>\n",
       "      <td>Stephenie Meyer</td>\n",
       "      <td>3.60</td>\n",
       "      <td>About three things I was absolutely positive.\\...</td>\n",
       "      <td>English</td>\n",
       "      <td>9780316015844</td>\n",
       "      <td>['Young Adult', 'Fantasy', 'Romance', 'Vampire...</td>\n",
       "      <td>['Edward Cullen', 'Jacob Black', 'Laurent', 'R...</td>\n",
       "      <td>...</td>\n",
       "      <td>10/05/05</td>\n",
       "      <td>['Georgia Peach Book Award (2007)', 'Buxtehude...</td>\n",
       "      <td>4964519</td>\n",
       "      <td>['1751460', '1113682', '1008686', '542017', '5...</td>\n",
       "      <td>78.0</td>\n",
       "      <td>['Forks, Washington (United States)', 'Phoenix...</td>\n",
       "      <td>https://i.gr-assets.com/images/S/compressed.ph...</td>\n",
       "      <td>1459448</td>\n",
       "      <td>14874</td>\n",
       "      <td>2.1</td>\n",
       "    </tr>\n",
       "  </tbody>\n",
       "</table>\n",
       "<p>5 rows × 25 columns</p>\n",
       "</div>"
      ],
      "text/plain": [
       "                                        bookId   \n",
       "0                     2767052-the-hunger-games  \\\n",
       "1  2.Harry_Potter_and_the_Order_of_the_Phoenix   \n",
       "2                   2657.To_Kill_a_Mockingbird   \n",
       "3                     1885.Pride_and_Prejudice   \n",
       "4                               41865.Twilight   \n",
       "\n",
       "                                       title                 series   \n",
       "0                           The Hunger Games    The Hunger Games #1  \\\n",
       "1  Harry Potter and the Order of the Phoenix        Harry Potter #5   \n",
       "2                      To Kill a Mockingbird  To Kill a Mockingbird   \n",
       "3                        Pride and Prejudice                    NaN   \n",
       "4                                   Twilight   The Twilight Saga #1   \n",
       "\n",
       "                                      author  rating   \n",
       "0                            Suzanne Collins    4.33  \\\n",
       "1  J.K. Rowling, Mary GrandPré (Illustrator)    4.50   \n",
       "2                                 Harper Lee    4.28   \n",
       "3  Jane Austen, Anna Quindlen (Introduction)    4.26   \n",
       "4                            Stephenie Meyer    3.60   \n",
       "\n",
       "                                         description language           isbn   \n",
       "0  WINNING MEANS FAME AND FORTUNE.LOSING MEANS CE...  English  9780439023481  \\\n",
       "1  There is a door at the end of a silent corrido...  English  9780439358071   \n",
       "2  The unforgettable novel of a childhood in a sl...  English  9999999999999   \n",
       "3  Alternate cover edition of ISBN 9780679783268S...  English  9999999999999   \n",
       "4  About three things I was absolutely positive.\\...  English  9780316015844   \n",
       "\n",
       "                                              genres   \n",
       "0  ['Young Adult', 'Fiction', 'Dystopia', 'Fantas...  \\\n",
       "1  ['Fantasy', 'Young Adult', 'Fiction', 'Magic',...   \n",
       "2  ['Classics', 'Fiction', 'Historical Fiction', ...   \n",
       "3  ['Classics', 'Fiction', 'Romance', 'Historical...   \n",
       "4  ['Young Adult', 'Fantasy', 'Romance', 'Vampire...   \n",
       "\n",
       "                                          characters  ... firstPublishDate   \n",
       "0  ['Katniss Everdeen', 'Peeta Mellark', 'Cato (H...  ...              NaN  \\\n",
       "1  ['Sirius Black', 'Draco Malfoy', 'Ron Weasley'...  ...         06/21/03   \n",
       "2  ['Scout Finch', 'Atticus Finch', 'Jem Finch', ...  ...         07/11/60   \n",
       "3  ['Mr. Bennet', 'Mrs. Bennet', 'Jane Bennet', '...  ...         01/28/13   \n",
       "4  ['Edward Cullen', 'Jacob Black', 'Laurent', 'R...  ...         10/05/05   \n",
       "\n",
       "                                              awards numRatings   \n",
       "0  ['Locus Award Nominee for Best Young Adult Boo...    6376780  \\\n",
       "1  ['Bram Stoker Award for Works for Young Reader...    2507623   \n",
       "2  ['Pulitzer Prize for Fiction (1961)', 'Audie A...    4501075   \n",
       "3                                                 []    2998241   \n",
       "4  ['Georgia Peach Book Award (2007)', 'Buxtehude...    4964519   \n",
       "\n",
       "                                      ratingsByStars likedPercent   \n",
       "0  ['3444695', '1921313', '745221', '171994', '93...         96.0  \\\n",
       "1  ['1593642', '637516', '222366', '39573', '14526']         98.0   \n",
       "2  ['2363896', '1333153', '573280', '149952', '80...         95.0   \n",
       "3  ['1617567', '816659', '373311', '113934', '767...         94.0   \n",
       "4  ['1751460', '1113682', '1008686', '542017', '5...         78.0   \n",
       "\n",
       "                                             setting   \n",
       "0  ['District 12, Panem', 'Capitol, Panem', 'Pane...  \\\n",
       "1  ['Hogwarts School of Witchcraft and Wizardry (...   \n",
       "2               ['Maycomb, Alabama (United States)']   \n",
       "3  ['United Kingdom', 'Derbyshire, England (Unite...   \n",
       "4  ['Forks, Washington (United States)', 'Phoenix...   \n",
       "\n",
       "                                            coverImg  bbeScore bbeVotes  price  \n",
       "0  https://i.gr-assets.com/images/S/compressed.ph...   2993816    30516   5.09  \n",
       "1  https://i.gr-assets.com/images/S/compressed.ph...   2632233    26923   7.38  \n",
       "2  https://i.gr-assets.com/images/S/compressed.ph...   2269402    23328    NaN  \n",
       "3  https://i.gr-assets.com/images/S/compressed.ph...   1983116    20452    NaN  \n",
       "4  https://i.gr-assets.com/images/S/compressed.ph...   1459448    14874    2.1  \n",
       "\n",
       "[5 rows x 25 columns]"
      ]
     },
     "execution_count": 1,
     "metadata": {},
     "output_type": "execute_result"
    }
   ],
   "source": [
    "\n",
    "# Import necessary libraries\n",
    "\n",
    "%matplotlib inline\n",
    "\n",
    "import numpy as np\n",
    "import pandas as pd \n",
    "import matplotlib.pyplot as plt \n",
    "import seaborn as sb \n",
    "import sklearn\n",
    "\n",
    "Location = r'books_1.Best_Books_Ever.csv'\n",
    "\n",
    "df = pd.read_csv(Location, sep=',')\n",
    "df.head(5)"
   ]
  },
  {
   "attachments": {},
   "cell_type": "markdown",
   "metadata": {},
   "source": [
    "#### Preprocessing / Cleaning\n"
   ]
  },
  {
   "cell_type": "code",
   "execution_count": 2,
   "metadata": {},
   "outputs": [
    {
     "data": {
      "text/html": [
       "<div>\n",
       "<style scoped>\n",
       "    .dataframe tbody tr th:only-of-type {\n",
       "        vertical-align: middle;\n",
       "    }\n",
       "\n",
       "    .dataframe tbody tr th {\n",
       "        vertical-align: top;\n",
       "    }\n",
       "\n",
       "    .dataframe thead th {\n",
       "        text-align: right;\n",
       "    }\n",
       "</style>\n",
       "<table border=\"1\" class=\"dataframe\">\n",
       "  <thead>\n",
       "    <tr style=\"text-align: right;\">\n",
       "      <th></th>\n",
       "      <th>bookId</th>\n",
       "      <th>title</th>\n",
       "      <th>series</th>\n",
       "      <th>author</th>\n",
       "      <th>rating</th>\n",
       "      <th>description</th>\n",
       "      <th>language</th>\n",
       "      <th>isbn</th>\n",
       "      <th>genres</th>\n",
       "      <th>characters</th>\n",
       "      <th>...</th>\n",
       "      <th>firstPublishDate</th>\n",
       "      <th>awards</th>\n",
       "      <th>numRatings</th>\n",
       "      <th>ratingsByStars</th>\n",
       "      <th>likedPercent</th>\n",
       "      <th>setting</th>\n",
       "      <th>coverImg</th>\n",
       "      <th>bbeScore</th>\n",
       "      <th>bbeVotes</th>\n",
       "      <th>price</th>\n",
       "    </tr>\n",
       "  </thead>\n",
       "  <tbody>\n",
       "    <tr>\n",
       "      <th>1</th>\n",
       "      <td>2.Harry_Potter_and_the_Order_of_the_Phoenix</td>\n",
       "      <td>Harry Potter and the Order of the Phoenix</td>\n",
       "      <td>Harry Potter #5</td>\n",
       "      <td>J.K. Rowling, Mary GrandPré (Illustrator)</td>\n",
       "      <td>4.50</td>\n",
       "      <td>There is a door at the end of a silent corrido...</td>\n",
       "      <td>English</td>\n",
       "      <td>9780439358071</td>\n",
       "      <td>['Fantasy', 'Young Adult', 'Fiction', 'Magic',...</td>\n",
       "      <td>['Sirius Black', 'Draco Malfoy', 'Ron Weasley'...</td>\n",
       "      <td>...</td>\n",
       "      <td>06/21/03</td>\n",
       "      <td>['Bram Stoker Award for Works for Young Reader...</td>\n",
       "      <td>2507623</td>\n",
       "      <td>['1593642', '637516', '222366', '39573', '14526']</td>\n",
       "      <td>98.0</td>\n",
       "      <td>['Hogwarts School of Witchcraft and Wizardry (...</td>\n",
       "      <td>https://i.gr-assets.com/images/S/compressed.ph...</td>\n",
       "      <td>2632233</td>\n",
       "      <td>26923</td>\n",
       "      <td>7.38</td>\n",
       "    </tr>\n",
       "    <tr>\n",
       "      <th>8</th>\n",
       "      <td>30.J_R_R_Tolkien_4_Book_Boxed_Set</td>\n",
       "      <td>J.R.R. Tolkien 4-Book Boxed Set: The Hobbit an...</td>\n",
       "      <td>The Lord of the Rings #0-3</td>\n",
       "      <td>J.R.R. Tolkien</td>\n",
       "      <td>4.60</td>\n",
       "      <td>This four-volume, boxed set contains J.R.R. To...</td>\n",
       "      <td>English</td>\n",
       "      <td>9780345538376</td>\n",
       "      <td>['Fantasy', 'Fiction', 'Classics', 'Adventure'...</td>\n",
       "      <td>['Frodo Baggins', 'Gandalf', 'Bilbo Baggins', ...</td>\n",
       "      <td>...</td>\n",
       "      <td>10/20/55</td>\n",
       "      <td>[]</td>\n",
       "      <td>110146</td>\n",
       "      <td>['78217', '22857', '6628', '1477', '967']</td>\n",
       "      <td>98.0</td>\n",
       "      <td>['Middle-earth']</td>\n",
       "      <td>https://i.gr-assets.com/images/S/compressed.ph...</td>\n",
       "      <td>1159802</td>\n",
       "      <td>12111</td>\n",
       "      <td>21.15</td>\n",
       "    </tr>\n",
       "    <tr>\n",
       "      <th>29</th>\n",
       "      <td>375802.Ender_s_Game</td>\n",
       "      <td>Ender's Game</td>\n",
       "      <td>Ender's Saga #1</td>\n",
       "      <td>Orson Scott Card, Stefan Rudnicki (Narrator), ...</td>\n",
       "      <td>4.30</td>\n",
       "      <td>Andrew \"Ender\" Wiggin thinks he is playing com...</td>\n",
       "      <td>English</td>\n",
       "      <td>9780812550702</td>\n",
       "      <td>['Science Fiction', 'Fiction', 'Young Adult', ...</td>\n",
       "      <td>['Dink', 'Bernard', 'Valentine Wiggin', 'Peter...</td>\n",
       "      <td>...</td>\n",
       "      <td>10/28/85</td>\n",
       "      <td>['Hugo Award for Best Novel (1986)', 'Nebula A...</td>\n",
       "      <td>1131303</td>\n",
       "      <td>['603209', '339819', '132305', '35667', '20303']</td>\n",
       "      <td>95.0</td>\n",
       "      <td>[]</td>\n",
       "      <td>https://i.gr-assets.com/images/S/compressed.ph...</td>\n",
       "      <td>720651</td>\n",
       "      <td>7515</td>\n",
       "      <td>4.6</td>\n",
       "    </tr>\n",
       "    <tr>\n",
       "      <th>37</th>\n",
       "      <td>17245.Dracula</td>\n",
       "      <td>Dracula</td>\n",
       "      <td>Dracula #1</td>\n",
       "      <td>Bram Stoker, Nina Auerbach (Editor), David J. ...</td>\n",
       "      <td>4.00</td>\n",
       "      <td>You can find an alternative cover edition for ...</td>\n",
       "      <td>English</td>\n",
       "      <td>9780393970128</td>\n",
       "      <td>['Classics', 'Horror', 'Fiction', 'Fantasy', '...</td>\n",
       "      <td>['Jonathan Harker', 'Lucy Westenra', 'Abraham ...</td>\n",
       "      <td>...</td>\n",
       "      <td>05/26/97</td>\n",
       "      <td>[]</td>\n",
       "      <td>938325</td>\n",
       "      <td>['345260', '329217', '197206', '48642', '18000']</td>\n",
       "      <td>93.0</td>\n",
       "      <td>['Transylvania (Romania)', 'Budapest (Hungary)...</td>\n",
       "      <td>https://i.gr-assets.com/images/S/compressed.ph...</td>\n",
       "      <td>646782</td>\n",
       "      <td>6988</td>\n",
       "      <td>4.55</td>\n",
       "    </tr>\n",
       "    <tr>\n",
       "      <th>42</th>\n",
       "      <td>28187.The_Lightning_Thief</td>\n",
       "      <td>The Lightning Thief</td>\n",
       "      <td>Percy Jackson and the Olympians #1</td>\n",
       "      <td>Rick Riordan (Goodreads Author)</td>\n",
       "      <td>4.26</td>\n",
       "      <td>Alternate cover for this ISBN can be found her...</td>\n",
       "      <td>English</td>\n",
       "      <td>9780786838653</td>\n",
       "      <td>['Fantasy', 'Young Adult', 'Mythology', 'Ficti...</td>\n",
       "      <td>['Annabeth Chase', 'Grover Underwood', 'Luke C...</td>\n",
       "      <td>...</td>\n",
       "      <td>06/28/05</td>\n",
       "      <td>[\"Young Readers' Choice Award (2008)\", 'Books ...</td>\n",
       "      <td>1992300</td>\n",
       "      <td>['1006885', '604999', '289310', '64014', '27092']</td>\n",
       "      <td>95.0</td>\n",
       "      <td>['New York City, New York (United States)', 'M...</td>\n",
       "      <td>https://i.gr-assets.com/images/S/compressed.ph...</td>\n",
       "      <td>597132</td>\n",
       "      <td>6370</td>\n",
       "      <td>1.79</td>\n",
       "    </tr>\n",
       "  </tbody>\n",
       "</table>\n",
       "<p>5 rows × 25 columns</p>\n",
       "</div>"
      ],
      "text/plain": [
       "                                         bookId   \n",
       "1   2.Harry_Potter_and_the_Order_of_the_Phoenix  \\\n",
       "8             30.J_R_R_Tolkien_4_Book_Boxed_Set   \n",
       "29                          375802.Ender_s_Game   \n",
       "37                                17245.Dracula   \n",
       "42                    28187.The_Lightning_Thief   \n",
       "\n",
       "                                                title   \n",
       "1           Harry Potter and the Order of the Phoenix  \\\n",
       "8   J.R.R. Tolkien 4-Book Boxed Set: The Hobbit an...   \n",
       "29                                       Ender's Game   \n",
       "37                                            Dracula   \n",
       "42                                The Lightning Thief   \n",
       "\n",
       "                                series   \n",
       "1                      Harry Potter #5  \\\n",
       "8           The Lord of the Rings #0-3   \n",
       "29                     Ender's Saga #1   \n",
       "37                          Dracula #1   \n",
       "42  Percy Jackson and the Olympians #1   \n",
       "\n",
       "                                               author  rating   \n",
       "1           J.K. Rowling, Mary GrandPré (Illustrator)    4.50  \\\n",
       "8                                      J.R.R. Tolkien    4.60   \n",
       "29  Orson Scott Card, Stefan Rudnicki (Narrator), ...    4.30   \n",
       "37  Bram Stoker, Nina Auerbach (Editor), David J. ...    4.00   \n",
       "42                    Rick Riordan (Goodreads Author)    4.26   \n",
       "\n",
       "                                          description language           isbn   \n",
       "1   There is a door at the end of a silent corrido...  English  9780439358071  \\\n",
       "8   This four-volume, boxed set contains J.R.R. To...  English  9780345538376   \n",
       "29  Andrew \"Ender\" Wiggin thinks he is playing com...  English  9780812550702   \n",
       "37  You can find an alternative cover edition for ...  English  9780393970128   \n",
       "42  Alternate cover for this ISBN can be found her...  English  9780786838653   \n",
       "\n",
       "                                               genres   \n",
       "1   ['Fantasy', 'Young Adult', 'Fiction', 'Magic',...  \\\n",
       "8   ['Fantasy', 'Fiction', 'Classics', 'Adventure'...   \n",
       "29  ['Science Fiction', 'Fiction', 'Young Adult', ...   \n",
       "37  ['Classics', 'Horror', 'Fiction', 'Fantasy', '...   \n",
       "42  ['Fantasy', 'Young Adult', 'Mythology', 'Ficti...   \n",
       "\n",
       "                                           characters  ... firstPublishDate   \n",
       "1   ['Sirius Black', 'Draco Malfoy', 'Ron Weasley'...  ...         06/21/03  \\\n",
       "8   ['Frodo Baggins', 'Gandalf', 'Bilbo Baggins', ...  ...         10/20/55   \n",
       "29  ['Dink', 'Bernard', 'Valentine Wiggin', 'Peter...  ...         10/28/85   \n",
       "37  ['Jonathan Harker', 'Lucy Westenra', 'Abraham ...  ...         05/26/97   \n",
       "42  ['Annabeth Chase', 'Grover Underwood', 'Luke C...  ...         06/28/05   \n",
       "\n",
       "                                               awards numRatings   \n",
       "1   ['Bram Stoker Award for Works for Young Reader...    2507623  \\\n",
       "8                                                  []     110146   \n",
       "29  ['Hugo Award for Best Novel (1986)', 'Nebula A...    1131303   \n",
       "37                                                 []     938325   \n",
       "42  [\"Young Readers' Choice Award (2008)\", 'Books ...    1992300   \n",
       "\n",
       "                                       ratingsByStars likedPercent   \n",
       "1   ['1593642', '637516', '222366', '39573', '14526']         98.0  \\\n",
       "8           ['78217', '22857', '6628', '1477', '967']         98.0   \n",
       "29   ['603209', '339819', '132305', '35667', '20303']         95.0   \n",
       "37   ['345260', '329217', '197206', '48642', '18000']         93.0   \n",
       "42  ['1006885', '604999', '289310', '64014', '27092']         95.0   \n",
       "\n",
       "                                              setting   \n",
       "1   ['Hogwarts School of Witchcraft and Wizardry (...  \\\n",
       "8                                    ['Middle-earth']   \n",
       "29                                                 []   \n",
       "37  ['Transylvania (Romania)', 'Budapest (Hungary)...   \n",
       "42  ['New York City, New York (United States)', 'M...   \n",
       "\n",
       "                                             coverImg  bbeScore bbeVotes   \n",
       "1   https://i.gr-assets.com/images/S/compressed.ph...   2632233    26923  \\\n",
       "8   https://i.gr-assets.com/images/S/compressed.ph...   1159802    12111   \n",
       "29  https://i.gr-assets.com/images/S/compressed.ph...    720651     7515   \n",
       "37  https://i.gr-assets.com/images/S/compressed.ph...    646782     6988   \n",
       "42  https://i.gr-assets.com/images/S/compressed.ph...    597132     6370   \n",
       "\n",
       "    price  \n",
       "1    7.38  \n",
       "8   21.15  \n",
       "29    4.6  \n",
       "37   4.55  \n",
       "42   1.79  \n",
       "\n",
       "[5 rows x 25 columns]"
      ]
     },
     "execution_count": 2,
     "metadata": {},
     "output_type": "execute_result"
    }
   ],
   "source": [
    "df.replace('', np.nan, inplace=True)\n",
    "df = df.dropna()\n",
    "df.head(5)"
   ]
  },
  {
   "cell_type": "code",
   "execution_count": 3,
   "metadata": {},
   "outputs": [],
   "source": [
    "# Split ratings by stars\n",
    "\n",
    "rating_list = [f\"ratingStar{i}\" for i in range(5,0, -1)]\n",
    "\n",
    "df[rating_list] = df[\"ratingsByStars\"].str.replace(\" \", \"\").str.replace(\"[\", \"\").str.replace(\"]\", \"\").str.split(',', expand=True)\n",
    "\n",
    "for rating in rating_list:\n",
    "    df[rating] = df[rating].str.replace(\"'\", \"\").astype(int)"
   ]
  },
  {
   "cell_type": "code",
   "execution_count": 4,
   "metadata": {},
   "outputs": [
    {
     "data": {
      "text/html": [
       "<div>\n",
       "<style scoped>\n",
       "    .dataframe tbody tr th:only-of-type {\n",
       "        vertical-align: middle;\n",
       "    }\n",
       "\n",
       "    .dataframe tbody tr th {\n",
       "        vertical-align: top;\n",
       "    }\n",
       "\n",
       "    .dataframe thead th {\n",
       "        text-align: right;\n",
       "    }\n",
       "</style>\n",
       "<table border=\"1\" class=\"dataframe\">\n",
       "  <thead>\n",
       "    <tr style=\"text-align: right;\">\n",
       "      <th></th>\n",
       "      <th>bookId</th>\n",
       "      <th>title</th>\n",
       "      <th>series</th>\n",
       "      <th>author</th>\n",
       "      <th>rating</th>\n",
       "      <th>description</th>\n",
       "      <th>language</th>\n",
       "      <th>isbn</th>\n",
       "      <th>genres</th>\n",
       "      <th>characters</th>\n",
       "      <th>...</th>\n",
       "      <th>setting</th>\n",
       "      <th>coverImg</th>\n",
       "      <th>bbeScore</th>\n",
       "      <th>bbeVotes</th>\n",
       "      <th>price</th>\n",
       "      <th>ratingStar5</th>\n",
       "      <th>ratingStar4</th>\n",
       "      <th>ratingStar3</th>\n",
       "      <th>ratingStar2</th>\n",
       "      <th>ratingStar1</th>\n",
       "    </tr>\n",
       "  </thead>\n",
       "  <tbody>\n",
       "    <tr>\n",
       "      <th>1</th>\n",
       "      <td>2.Harry_Potter_and_the_Order_of_the_Phoenix</td>\n",
       "      <td>Harry Potter and the Order of the Phoenix</td>\n",
       "      <td>Harry Potter #5</td>\n",
       "      <td>J.K. Rowling, Mary GrandPré (Illustrator)</td>\n",
       "      <td>4.5</td>\n",
       "      <td>There is a door at the end of a silent corrido...</td>\n",
       "      <td>English</td>\n",
       "      <td>9780439358071</td>\n",
       "      <td>['Fantasy', 'Young Adult', 'Fiction', 'Magic',...</td>\n",
       "      <td>['Sirius Black', 'Draco Malfoy', 'Ron Weasley'...</td>\n",
       "      <td>...</td>\n",
       "      <td>['Hogwarts School of Witchcraft and Wizardry (...</td>\n",
       "      <td>https://i.gr-assets.com/images/S/compressed.ph...</td>\n",
       "      <td>2632233</td>\n",
       "      <td>26923</td>\n",
       "      <td>7.38</td>\n",
       "      <td>1593642</td>\n",
       "      <td>637516</td>\n",
       "      <td>222366</td>\n",
       "      <td>39573</td>\n",
       "      <td>14526</td>\n",
       "    </tr>\n",
       "    <tr>\n",
       "      <th>8</th>\n",
       "      <td>30.J_R_R_Tolkien_4_Book_Boxed_Set</td>\n",
       "      <td>J.R.R. Tolkien 4-Book Boxed Set: The Hobbit an...</td>\n",
       "      <td>The Lord of the Rings #0-3</td>\n",
       "      <td>J.R.R. Tolkien</td>\n",
       "      <td>4.6</td>\n",
       "      <td>This four-volume, boxed set contains J.R.R. To...</td>\n",
       "      <td>English</td>\n",
       "      <td>9780345538376</td>\n",
       "      <td>['Fantasy', 'Fiction', 'Classics', 'Adventure'...</td>\n",
       "      <td>['Frodo Baggins', 'Gandalf', 'Bilbo Baggins', ...</td>\n",
       "      <td>...</td>\n",
       "      <td>['Middle-earth']</td>\n",
       "      <td>https://i.gr-assets.com/images/S/compressed.ph...</td>\n",
       "      <td>1159802</td>\n",
       "      <td>12111</td>\n",
       "      <td>21.15</td>\n",
       "      <td>78217</td>\n",
       "      <td>22857</td>\n",
       "      <td>6628</td>\n",
       "      <td>1477</td>\n",
       "      <td>967</td>\n",
       "    </tr>\n",
       "  </tbody>\n",
       "</table>\n",
       "<p>2 rows × 30 columns</p>\n",
       "</div>"
      ],
      "text/plain": [
       "                                        bookId   \n",
       "1  2.Harry_Potter_and_the_Order_of_the_Phoenix  \\\n",
       "8            30.J_R_R_Tolkien_4_Book_Boxed_Set   \n",
       "\n",
       "                                               title   \n",
       "1          Harry Potter and the Order of the Phoenix  \\\n",
       "8  J.R.R. Tolkien 4-Book Boxed Set: The Hobbit an...   \n",
       "\n",
       "                       series                                     author   \n",
       "1             Harry Potter #5  J.K. Rowling, Mary GrandPré (Illustrator)  \\\n",
       "8  The Lord of the Rings #0-3                             J.R.R. Tolkien   \n",
       "\n",
       "   rating                                        description language   \n",
       "1     4.5  There is a door at the end of a silent corrido...  English  \\\n",
       "8     4.6  This four-volume, boxed set contains J.R.R. To...  English   \n",
       "\n",
       "            isbn                                             genres   \n",
       "1  9780439358071  ['Fantasy', 'Young Adult', 'Fiction', 'Magic',...  \\\n",
       "8  9780345538376  ['Fantasy', 'Fiction', 'Classics', 'Adventure'...   \n",
       "\n",
       "                                          characters  ...   \n",
       "1  ['Sirius Black', 'Draco Malfoy', 'Ron Weasley'...  ...  \\\n",
       "8  ['Frodo Baggins', 'Gandalf', 'Bilbo Baggins', ...  ...   \n",
       "\n",
       "                                             setting   \n",
       "1  ['Hogwarts School of Witchcraft and Wizardry (...  \\\n",
       "8                                   ['Middle-earth']   \n",
       "\n",
       "                                            coverImg bbeScore bbeVotes  price   \n",
       "1  https://i.gr-assets.com/images/S/compressed.ph...  2632233    26923   7.38  \\\n",
       "8  https://i.gr-assets.com/images/S/compressed.ph...  1159802    12111  21.15   \n",
       "\n",
       "  ratingStar5 ratingStar4  ratingStar3 ratingStar2  ratingStar1  \n",
       "1     1593642      637516       222366       39573        14526  \n",
       "8       78217       22857         6628        1477          967  \n",
       "\n",
       "[2 rows x 30 columns]"
      ]
     },
     "execution_count": 4,
     "metadata": {},
     "output_type": "execute_result"
    }
   ],
   "source": [
    "df.head(2)"
   ]
  },
  {
   "cell_type": "code",
   "execution_count": 5,
   "metadata": {},
   "outputs": [],
   "source": [
    "# Deleting books with empty genres\n",
    "\n",
    "condition = df[\"genres\"] != '[]'\n",
    "df = df[condition]"
   ]
  },
  {
   "cell_type": "code",
   "execution_count": 6,
   "metadata": {},
   "outputs": [
    {
     "data": {
      "text/plain": [
       "1             Fantasy\n",
       "8             Fantasy\n",
       "29    Science Fiction\n",
       "37           Classics\n",
       "42            Fantasy\n",
       "Name: genreSingle, dtype: object"
      ]
     },
     "execution_count": 6,
     "metadata": {},
     "output_type": "execute_result"
    }
   ],
   "source": [
    "# Create single genre category\n",
    "\n",
    "df[\"genreSingle\"] = df[\"genres\"].apply(lambda x: x.split(',')[0].replace(\"[\", \"\").replace(\"'\", \"\"))\n",
    "df[\"genreSingle\"].head(5)"
   ]
  },
  {
   "cell_type": "code",
   "execution_count": 7,
   "metadata": {},
   "outputs": [
    {
     "name": "stderr",
     "output_type": "stream",
     "text": [
      "/tmp/ipykernel_424/3945411462.py:3: UserWarning: Could not infer format, so each element will be parsed individually, falling back to `dateutil`. To ensure parsing is consistent and as-expected, please specify a format.\n",
      "  df[\"publishYear\"] = pd.to_datetime(df[\"publishDate\"], errors='coerce').dt.year\n"
     ]
    },
    {
     "data": {
      "text/plain": [
       "1        2004.0\n",
       "8        2012.0\n",
       "29       2004.0\n",
       "37       1986.0\n",
       "42       2006.0\n",
       "          ...  \n",
       "52135    2016.0\n",
       "52179    2003.0\n",
       "52232    2012.0\n",
       "52263    2001.0\n",
       "52403    2009.0\n",
       "Name: publishYear, Length: 782, dtype: float64"
      ]
     },
     "execution_count": 7,
     "metadata": {},
     "output_type": "execute_result"
    }
   ],
   "source": [
    "# Create publish Year\n",
    "\n",
    "df[\"publishYear\"] = pd.to_datetime(df[\"publishDate\"], errors='coerce').dt.year\n",
    "df[\"publishYear\"]\n"
   ]
  },
  {
   "attachments": {},
   "cell_type": "markdown",
   "metadata": {},
   "source": [
    "### Extracting Information from Graphs - Giving answers to problems\n",
    "\n"
   ]
  },
  {
   "attachments": {},
   "cell_type": "markdown",
   "metadata": {},
   "source": [
    "#### Ratings Histogram\n"
   ]
  },
  {
   "cell_type": "code",
   "execution_count": 8,
   "metadata": {},
   "outputs": [
    {
     "data": {
      "text/plain": [
       "<Axes: xlabel='rating', ylabel='Count'>"
      ]
     },
     "execution_count": 8,
     "metadata": {},
     "output_type": "execute_result"
    },
    {
     "data": {
      "image/png": "[encoded data removed]",
      "text/plain": [
       "<Figure size 1500x800 with 1 Axes>"
      ]
     },
     "metadata": {},
     "output_type": "display_data"
    }
   ],
   "source": [
    "sb.set(rc={\"figure.figsize\":(15, 8)})\n",
    "\n",
    "sb.histplot(df[\"rating\"])"
   ]
  },
  {
   "attachments": {},
   "cell_type": "markdown",
   "metadata": {},
   "source": [
    "#### The 10 Books with most pages\n"
   ]
  },
  {
   "cell_type": "code",
   "execution_count": 9,
   "metadata": {},
   "outputs": [
    {
     "data": {
      "text/plain": [
       "<Axes: xlabel='title', ylabel='pages'>"
      ]
     },
     "execution_count": 9,
     "metadata": {},
     "output_type": "execute_result"
    },
    {
     "data": {
      "image/png": "[encoded data removed]",
      "text/plain": [
       "<Figure size 2000x800 with 1 Axes>"
      ]
     },
     "metadata": {},
     "output_type": "display_data"
    }
   ],
   "source": [
    "sb.set(rc={\"figure.figsize\":(20, 8)})\n",
    "\n",
    "df[\"pages\"] = df[\"pages\"].astype(int)\n",
    "\n",
    "new_df = df.sort_values(by=\"pages\", ascending=False).iloc[0:10]\n",
    "\n",
    "sb.barplot(data=new_df, x=new_df[\"title\"], y=new_df[\"pages\"].astype(int))"
   ]
  },
  {
   "attachments": {},
   "cell_type": "markdown",
   "metadata": {},
   "source": [
    "#### Books with Most 5 Stars"
   ]
  },
  {
   "cell_type": "code",
   "execution_count": 10,
   "metadata": {},
   "outputs": [
    {
     "data": {
      "text/plain": [
       "<Axes: xlabel='title', ylabel='ratingStar5'>"
      ]
     },
     "execution_count": 10,
     "metadata": {},
     "output_type": "execute_result"
    },
    {
     "data": {
      "image/png": "[encoded data removed]",
      "text/plain": [
       "<Figure size 1500x800 with 1 Axes>"
      ]
     },
     "metadata": {},
     "output_type": "display_data"
    }
   ],
   "source": [
    "sb.set(rc={\"figure.figsize\": (15, 8)})\n",
    "\n",
    "most_five_stars = df[\"ratingStar5\"] >= 10000\n",
    "new_df = df[most_five_stars]\n",
    "\n",
    "new_df = new_df.sort_values(by=\"ratingStar5\", ascending=False).iloc[0:10]\n",
    "sb.barplot(data=new_df, x = new_df[\"title\"], y = new_df[\"ratingStar5\"])\n",
    "\n"
   ]
  },
  {
   "attachments": {},
   "cell_type": "markdown",
   "metadata": {},
   "source": [
    "#### Word Frequency"
   ]
  },
  {
   "cell_type": "code",
   "execution_count": 11,
   "metadata": {},
   "outputs": [
    {
     "data": {
      "text/plain": [
       "Text(0.5, 1.0, 'Word Frequency')"
      ]
     },
     "execution_count": 11,
     "metadata": {},
     "output_type": "execute_result"
    },
    {
     "data": {
      "image/png": "[encoded data removed]",
      "text/plain": [
       "<Figure size 1500x800 with 1 Axes>"
      ]
     },
     "metadata": {},
     "output_type": "display_data"
    }
   ],
   "source": [
    "sb.set(rc={\"figure.figsize\": (15, 8)})\n",
    "\n",
    "stop_words_removed = df[\"title\"].apply(lambda x: x.lower().replace(\"and\", \"\").replace(\"is\", \"\").replace(\"the\", \"\") \\\n",
    "                                    .replace(\"of\", \"\").replace(\"in\", \"\").replace(\"&\", \"\").replace(\"/\", \"\").replace(\"to\", \"\") \\\n",
    "                                    .replace(\"a\", \"\").replace(\"on\", \"\").replace(\"-\", \"\").replace(\"1\", \"\").replace(\":\", \"\") \\\n",
    "                                    .replace(\"2\", \"\").replace(\",\", \"\").replace(\".\", \"\"))\n",
    "all_words = ''.join(stop_words_removed)\n",
    "\n",
    "word_count = pd.Series(all_words.split()).value_counts().iloc[0:10]\n",
    "colors = sb.color_palette(\"mako\")\n",
    "word_count.plot.bar(color=colors)\n",
    "\n",
    "plt.xlabel(\"Words\")\n",
    "plt.ylabel(\"Count\")\n",
    "plt.title(\"Word Frequency\")"
   ]
  },
  {
   "attachments": {},
   "cell_type": "markdown",
   "metadata": {},
   "source": [
    "#### Authors with Most Books"
   ]
  },
  {
   "cell_type": "code",
   "execution_count": 12,
   "metadata": {},
   "outputs": [
    {
     "data": {
      "text/plain": [
       "Text(0.5, 1.0, 'Authors with Most Books')"
      ]
     },
     "execution_count": 12,
     "metadata": {},
     "output_type": "execute_result"
    },
    {
     "data": {
      "image/png": "[encoded data removed]",
      "text/plain": [
       "<Figure size 1500x800 with 1 Axes>"
      ]
     },
     "metadata": {},
     "output_type": "display_data"
    }
   ],
   "source": [
    "sb.set(rc={\"figure.figsize\": (15, 8)})\n",
    "\n",
    "new_df = df.groupby(\"author\")[\"title\"].count().sort_values(ascending=False).iloc[0:10]\n",
    "colors = sb.color_palette(\"cubehelix\")\n",
    "new_df.plot.bar(color=colors)\n",
    "\n",
    "plt.xlabel(\"Authors\")\n",
    "plt.ylabel(\"Book Count\")\n",
    "plt.title(\"Authors with Most Books\")\n"
   ]
  },
  {
   "attachments": {},
   "cell_type": "markdown",
   "metadata": {},
   "source": [
    "### Recommendation System"
   ]
  },
  {
   "cell_type": "code",
   "execution_count": 13,
   "metadata": {},
   "outputs": [],
   "source": [
    "df_filtered = df[df['description'].map(lambda x: x.isascii())]"
   ]
  },
  {
   "cell_type": "code",
   "execution_count": 14,
   "metadata": {},
   "outputs": [],
   "source": [
    "\n",
    "from sklearn.feature_extraction.text import TfidfVectorizer\n",
    "from sklearn.feature_extraction import text\n",
    "from sklearn.metrics.pairwise import cosine_similarity\n",
    "\n",
    "vectorizer = TfidfVectorizer(ngram_range=(1,2), stop_words=list(text.ENGLISH_STOP_WORDS))\n",
    "\n",
    "tfidf_matrix = vectorizer.fit_transform(df_filtered[\"description\"])\n",
    "\n",
    "tfidf_array = tfidf_matrix.toarray()\n",
    "feature_names = vectorizer.get_feature_names_out()\n",
    "\n",
    "cosine_sim_matrix = cosine_similarity(tfidf_matrix)\n",
    "\n"
   ]
  },
  {
   "cell_type": "code",
   "execution_count": 15,
   "metadata": {},
   "outputs": [],
   "source": [
    "\n",
    "N = 100\n",
    "most_similar_books = {}\n",
    "\n",
    "for i in range(len(df_filtered)):\n",
    "    similarity = cosine_sim_matrix[i]\n",
    "\n",
    "    pairs = list(zip(similarity, df_filtered[\"bookId\"]))\n",
    "\n",
    "    # Exclude the same book\n",
    "    l = []\n",
    "    bookId = df_filtered[\"bookId\"].iloc[i]\n",
    "    for j in range(len(df_filtered)):\n",
    "        if pairs[j][1] != bookId:\n",
    "            l.append(pairs[j])\n",
    "\n",
    "    sorted_sim = sorted(l)[::-1][0:N]\n",
    "    most_similar_books[bookId] = sorted_sim\n"
   ]
  },
  {
   "cell_type": "code",
   "execution_count": 16,
   "metadata": {},
   "outputs": [
    {
     "name": "stdout",
     "output_type": "stream",
     "text": [
      "Index 29\n",
      "Recommending 3 books similar to: 29    Ender's Game\n",
      "Name: title, dtype: object\n",
      "Recomended: The Blue Sword\n",
      " Description: This is the story of Corlath, golden-eyed king of the Free Hillfolk, son of the sons of the Lady Aerin.And this is the story of Harry Crewe, the Homelander orphan girl who became Harimad-sol, King's Rider, and heir to the Blue Sword, Gonturan, that no woman had wielded since the Lady Aerin herself bore it into battle.And this is the song of the kelar of the Hillfolk, the magic of the blood, the weaver of destinies...\n",
      " (score: 0.9999999999999999)\n",
      "Recomended: Green Rider\n",
      " Description: On her long journey home from school after a fight which will surely lead to her expulsion, Karigan G'ladheon ponders her future as she trudges through the immense forest called Green Cloak. But her thoughts are interrupted by the clattering of hooves as a galloping horse bursts from the woods, the rider slumped over his mount's neck, impaled by two black-shafted arrows. As the young man lies dying on the road, he tells Karigan that he is a Green Rider, one of the legendary messengers of the king, and that he bears a \"life and death\" message for King Zachary. He begs Karigan to carry his message, warning her not to read it, and when she reluctantly agrees, he makes her swear on his sword to complete his mission \"for love of country.\" As he bestows upon her the golden winged-horse brooch which is the symbol of his office, he whispers on his dying breath, \"Beware the shadow man...\" Karigan's promise changes her life forever. Pursued by unknown assassins, following a path only her horse seems to know, and accompanied by the silent specter of the original messenger, she herself becomes a legendary Green Rider. Caught up in a world of deadly danger and complex magic, compelled by forces she cannot understand, Karigan is hounded by dark beings bent on seeing that the message, and its reluctant carrier, never reach their destination.\n",
      " (score: 0.04184272197897592)\n",
      "Recomended: The Man in the Iron Mask\n",
      " Description: \n",
      "  A swashbuckling novel of political intrigue.\n",
      "In the concluding installment of Alexandre Dumas's celebrated cycle of the Three Musketeers, D'Artagnan remains in the service of the corrupt King Louis XIV after the Three Musketeers have retired and gone their separate ways. Unbeknownst to D'Artagnan, Aramis and Porthos plot to remove the inept king and place the king's twin brother on the throne of France. Meanwhile, a twenty-three-year-old prisoner known only as \"Philippe\" wastes away deep inside the Bastille. Forced to wear an iron mask, Phillippe has been imprisoned for eight years, has no knowledge of his true identity, and has not been told what crime he's committed. When the destinies of the king and Phillippe converge, the Three Musketeers and D'Artagnan find themselves caught between conflicting loyalties.\n",
      " (score: 0.040870339232792936)\n"
     ]
    }
   ],
   "source": [
    "\n",
    "def recommend(item_id, num):\n",
    "    row = df_filtered[\"bookId\"] == item_id\n",
    "\n",
    "    index = df_filtered[row].index[0]\n",
    "    similarity = cosine_sim_matrix[index]\n",
    "    print(\"Index \" + str(index))\n",
    "    \n",
    "    pairs = list(zip(similarity, df_filtered[\"bookId\"]))\n",
    "    \n",
    "    l = []\n",
    "    bookId = df_filtered[\"bookId\"].iloc[i]\n",
    "    for j in range(len(df_filtered)):\n",
    "        # print(j)\n",
    "        if pairs[j][1] != bookId:\n",
    "            l.append(pairs[j])\n",
    "    \n",
    "    sorted_sim = sorted(l)[::-1][0:num]\n",
    "\n",
    "    print(f\"Recommending {len(sorted_sim)} books similar to: {df_filtered.loc[df_filtered['bookId']==item_id]['title']}\")\n",
    "    for pair in sorted_sim:\n",
    "        row = df_filtered[\"bookId\"] == pair[1]\n",
    "        title = df_filtered.loc[row][\"title\"]\n",
    "        description = df_filtered.loc[row][\"description\"]\n",
    "        score = pair[0]\n",
    "        print(f\"Recomended: {title.iloc[0]}\\n Description: {description.iloc[0]}\\n (score: {score})\")\n",
    "\n",
    "recommend('375802.Ender_s_Game', 3)\n",
    "    \n",
    "\n",
    "\n"
   ]
  },
  {
   "attachments": {},
   "cell_type": "markdown",
   "metadata": {},
   "source": [
    "### Classification\n"
   ]
  },
  {
   "attachments": {},
   "cell_type": "markdown",
   "metadata": {},
   "source": [
    "#### 10 Most common genres\n"
   ]
  },
  {
   "cell_type": "code",
   "execution_count": 17,
   "metadata": {},
   "outputs": [
    {
     "data": {
      "text/plain": [
       "genreSingle\n",
       "Fantasy            146\n",
       "Fiction             70\n",
       "Mystery             65\n",
       "Classics            62\n",
       "Young Adult         54\n",
       "Comics              47\n",
       "Romance             38\n",
       "Science Fiction     37\n",
       "Graphic Novels      27\n",
       "Urban Fantasy       21\n",
       "Name: bookId, dtype: int64"
      ]
     },
     "execution_count": 17,
     "metadata": {},
     "output_type": "execute_result"
    }
   ],
   "source": [
    "genres = df.groupby(\"genreSingle\")[\"bookId\"].count()\n",
    "most_common_genres = genres.sort_values(ascending=False)[0:10]\n",
    "most_common_genres"
   ]
  },
  {
   "attachments": {},
   "cell_type": "markdown",
   "metadata": {},
   "source": [
    "#### Clean description\n"
   ]
  },
  {
   "cell_type": "code",
   "execution_count": 18,
   "metadata": {},
   "outputs": [],
   "source": [
    "new_df = df.copy()\n",
    "\n",
    "new_df[\"description\"] = new_df[\"description\"].apply(lambda x: x.lower().replace(\".\", \"\").replace(\"?\", \"\").replace(\"!\", \"\").replace(\",\", \"\"))"
   ]
  },
  {
   "attachments": {},
   "cell_type": "markdown",
   "metadata": {},
   "source": [
    "#### Word2Vec"
   ]
  },
  {
   "cell_type": "code",
   "execution_count": 27,
   "metadata": {},
   "outputs": [],
   "source": [
    "from gensim.models import Word2Vec\n",
    "\n",
    "tokenized_description = [d.split() for d in new_df[\"description\"].tolist()]\n",
    "word2vec_model = Word2Vec(tokenized_description, min_count=1)\n",
    "\n",
    "def get_description_vector(description):\n",
    "    # Tokenize the description\n",
    "    tokens = description.lower().split()\n",
    "\n",
    "    # Initialize an empty vector\n",
    "    description_vector = np.zeros((word2vec_model.vector_size,))\n",
    "\n",
    "    # Calculate the description vector\n",
    "    for token in tokens:\n",
    "        if token in word2vec_model.wv:\n",
    "            description_vector += word2vec_model.wv[token]\n",
    "\n",
    "    description_vector /= len(tokens)\n",
    "\n",
    "    return description_vector\n",
    "\n",
    "\n",
    "description_vectors = [get_description_vector(d) for d in new_df[\"description\"].tolist()]\n"
   ]
  },
  {
   "cell_type": "code",
   "execution_count": 20,
   "metadata": {},
   "outputs": [],
   "source": [
    "import pickle\n",
    "\n",
    "file_path = \"data.pickle\"\n",
    "\n",
    "with open(file_path, \"wb\") as file:\n",
    "    pickle.dump(description_vectors, file)"
   ]
  },
  {
   "cell_type": "code",
   "execution_count": 21,
   "metadata": {},
   "outputs": [],
   "source": [
    "with open(file_path, \"rb\") as file:\n",
    "    rdv = pickle.load(file)\n",
    "\n"
   ]
  },
  {
   "attachments": {},
   "cell_type": "markdown",
   "metadata": {},
   "source": [
    "#### Split training set"
   ]
  },
  {
   "cell_type": "code",
   "execution_count": 22,
   "metadata": {},
   "outputs": [],
   "source": [
    "from sklearn.model_selection import train_test_split\n",
    "\n",
    "x_train, x_test, y_train, y_test = train_test_split(description_vectors, new_df[\"genreSingle\"], test_size=0.2)"
   ]
  },
  {
   "attachments": {},
   "cell_type": "markdown",
   "metadata": {},
   "source": [
    "#### Classifiers"
   ]
  },
  {
   "attachments": {},
   "cell_type": "markdown",
   "metadata": {},
   "source": [
    "#### Naive Bayes"
   ]
  },
  {
   "cell_type": "code",
   "execution_count": 23,
   "metadata": {},
   "outputs": [
    {
     "name": "stdout",
     "output_type": "stream",
     "text": [
      "Validation Accuracy 0.025477707006369428\n"
     ]
    }
   ],
   "source": [
    "from sklearn.naive_bayes import GaussianNB\n",
    "from sklearn.metrics import accuracy_score, precision_score, recall_score, f1_score\n",
    "\n",
    "classifier = GaussianNB()\n",
    "\n",
    "# Train the classifier\n",
    "classifier.fit(x_train, y_train)\n",
    "\n",
    "y_pred = classifier.predict(x_test)\n",
    "\n",
    "# Calculate accuracy\n",
    "accuracy = accuracy_score(y_test, y_pred)\n",
    "print(\"Validation Accuracy\", accuracy)\n",
    "\n"
   ]
  },
  {
   "attachments": {},
   "cell_type": "markdown",
   "metadata": {},
   "source": [
    "#### Support Vector Machines"
   ]
  },
  {
   "cell_type": "code",
   "execution_count": 24,
   "metadata": {},
   "outputs": [
    {
     "name": "stdout",
     "output_type": "stream",
     "text": [
      "Validation Accuracy:  0.19745222929936307\n"
     ]
    }
   ],
   "source": [
    "from sklearn.svm import SVC\n",
    "\n",
    "classifier = SVC(kernel='linear', C=1.0, gamma='scale')\n",
    "\n",
    "# Feed the classifier\n",
    "classifier.fit(x_train, y_train)\n",
    "\n",
    "# Predict labels for the validation data\n",
    "y_pred = classifier.predict(x_test)\n",
    "\n",
    "accuracy = accuracy_score(y_test, y_pred)\n",
    "print(\"Validation Accuracy: \", accuracy)"
   ]
  },
  {
   "attachments": {},
   "cell_type": "markdown",
   "metadata": {},
   "source": [
    "#### Random Forest"
   ]
  },
  {
   "cell_type": "code",
   "execution_count": 25,
   "metadata": {},
   "outputs": [
    {
     "name": "stdout",
     "output_type": "stream",
     "text": [
      "Validation Accuracy:  0.15286624203821655\n"
     ]
    }
   ],
   "source": [
    "from sklearn.ensemble import RandomForestClassifier\n",
    "\n",
    "classifier = RandomForestClassifier()\n",
    "\n",
    "# Feed the classifier\n",
    "classifier.fit(x_train, y_train)\n",
    "\n",
    "# Predict labels\n",
    "y_pred = classifier.predict(x_test)\n",
    "\n",
    "accuracy = accuracy_score(y_test, y_pred)\n",
    "print(\"Validation Accuracy: \", accuracy)\n"
   ]
  },
  {
   "cell_type": "code",
   "execution_count": null,
   "metadata": {},
   "outputs": [],
   "source": []
  }
 ],
 "metadata": {
  "kernelspec": {
   "display_name": "Python 3",
   "language": "python",
   "name": "python3"
  },
  "language_info": {
   "codemirror_mode": {
    "name": "ipython",
    "version": 3
   },
   "file_extension": ".py",
   "mimetype": "text/x-python",
   "name": "python",
   "nbconvert_exporter": "python",
   "pygments_lexer": "ipython3",
   "version": "3.8.10"
  },
  "orig_nbformat": 4
 },
 "nbformat": 4,
 "nbformat_minor": 2
}
